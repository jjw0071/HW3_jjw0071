{
 "cells": [
  {
   "cell_type": "code",
   "execution_count": 1,
   "id": "a808b9d5",
   "metadata": {},
   "outputs": [
    {
     "name": "stdout",
     "output_type": "stream",
     "text": [
      "0 factorial is 1\n",
      "2 factorial is 2\n",
      "4 factorial is 24\n",
      "6 factorial is 720\n",
      "8 factorial is 40320\n",
      "10 factorial is 3628800\n",
      "12 factorial is 479001600\n"
     ]
    }
   ],
   "source": [
    "def factorial(a):\n",
    "    \n",
    "    if a ==0:\n",
    "        return 1\n",
    "    else :\n",
    "        return a*factorial(a-1)\n",
    "    \n",
    "def main():\n",
    "    for i in range(0,7):\n",
    "        print(\"{0:d} factorial is {1:d}\".format(2*i,factorial(2*i)))\n",
    "    \n",
    "if __name__ == \"__main__\":\n",
    "    main()"
   ]
  },
  {
   "cell_type": "code",
   "execution_count": null,
   "id": "6b076e89",
   "metadata": {},
   "outputs": [],
   "source": []
  }
 ],
 "metadata": {
  "kernelspec": {
   "display_name": "Python 3 (ipykernel)",
   "language": "python",
   "name": "python3"
  },
  "language_info": {
   "codemirror_mode": {
    "name": "ipython",
    "version": 3
   },
   "file_extension": ".py",
   "mimetype": "text/x-python",
   "name": "python",
   "nbconvert_exporter": "python",
   "pygments_lexer": "ipython3",
   "version": "3.9.13"
  }
 },
 "nbformat": 4,
 "nbformat_minor": 5
}

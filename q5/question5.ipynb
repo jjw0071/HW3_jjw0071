{
 "cells": [
  {
   "cell_type": "code",
   "execution_count": 1,
   "id": "ec9c96a9",
   "metadata": {},
   "outputs": [
    {
     "name": "stdout",
     "output_type": "stream",
     "text": [
      "input string was\n",
      "Two roads diverged in a yellow wood, And sorry I could not travel both And be one traveler, long I stood And looked down one as far as I could To where it bent in the undergrowth;\n",
      "reversed string is\n",
      "undergrowth; the in bent it where To could I as far as one down looked And stood I long traveler, one be And both travel not could I sorry And wood, yellow a in diverged roads Two \n",
      "\n",
      "input string was\n",
      "Then took the other, as just as fair, And having perhaps the better claim, Because it was grassy and wanted wear; Though as for that the passing there Had worn them really about the same,\n",
      "reversed string is\n",
      "same, the about really them worn Had there passing the that for as Though wear; wanted and grassy was it Because claim, better the perhaps having And fair, as just as other, the took Then \n",
      "\n"
     ]
    }
   ],
   "source": [
    "def reverse_words(str):\n",
    "    print(\"input string was\")\n",
    "    print(\"{0:s}\".format(str))\n",
    "    l = str.split(\" \")\n",
    "    strlist = []\n",
    "    for i in l:\n",
    "        strlist.insert(0,i)\n",
    "    newstr = \"\"\n",
    "    for i in strlist:\n",
    "        newstr= newstr+i+\" \"\n",
    "    print(\"reversed string is\")\n",
    "    print(newstr)\n",
    "    print()\n",
    "\n",
    "        \n",
    "\n",
    "def main():\n",
    "    str1 = \"Two roads diverged in a yellow wood, And sorry I could not travel both And be one traveler, long I stood And looked down one as far as I could To where it bent in the undergrowth;\"\n",
    "    str2 = \"Then took the other, as just as fair, And having perhaps the better claim, Because it was grassy and wanted wear; Though as for that the passing there Had worn them really about the same,\"\n",
    "    reverse_words(str1)\n",
    "    reverse_words(str2)\n",
    "    \n",
    "if __name__ == \"__main__\":\n",
    "    main()\n",
    "    \n",
    "\n",
    "\n"
   ]
  },
  {
   "cell_type": "code",
   "execution_count": null,
   "id": "b233d027",
   "metadata": {},
   "outputs": [],
   "source": []
  },
  {
   "cell_type": "code",
   "execution_count": null,
   "id": "91b7390b",
   "metadata": {},
   "outputs": [],
   "source": []
  },
  {
   "cell_type": "code",
   "execution_count": null,
   "id": "056338dd",
   "metadata": {},
   "outputs": [],
   "source": []
  }
 ],
 "metadata": {
  "kernelspec": {
   "display_name": "Python 3 (ipykernel)",
   "language": "python",
   "name": "python3"
  },
  "language_info": {
   "codemirror_mode": {
    "name": "ipython",
    "version": 3
   },
   "file_extension": ".py",
   "mimetype": "text/x-python",
   "name": "python",
   "nbconvert_exporter": "python",
   "pygments_lexer": "ipython3",
   "version": "3.9.13"
  }
 },
 "nbformat": 4,
 "nbformat_minor": 5
}
